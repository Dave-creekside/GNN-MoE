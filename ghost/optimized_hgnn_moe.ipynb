{
 "cells": [
  {
   "cell_type": "code",
   "execution_count": 1,
   "metadata": {
    "colab": {
     "base_uri": "https://localhost:8080/"
    },
    "id": "u8x17zlSzp8q",
    "outputId": "6c37fe95-3eea-495d-ef73-2c9f7b08ce28"
   },
   "outputs": [
    {
     "name": "stdout",
     "output_type": "stream",
     "text": [
      "Requirement already satisfied: torch in /home/orion/anaconda3/lib/python3.12/site-packages (2.7.0)\n",
      "Requirement already satisfied: datasets in /home/orion/anaconda3/lib/python3.12/site-packages (2.14.7)\n",
      "Requirement already satisfied: numpy in /home/orion/anaconda3/lib/python3.12/site-packages (1.26.4)\n",
      "Requirement already satisfied: matplotlib in /home/orion/anaconda3/lib/python3.12/site-packages (3.9.2)\n",
      "Requirement already satisfied: seaborn in /home/orion/anaconda3/lib/python3.12/site-packages (0.13.2)\n",
      "Requirement already satisfied: filelock in /home/orion/anaconda3/lib/python3.12/site-packages (from torch) (3.13.1)\n",
      "Requirement already satisfied: typing-extensions>=4.10.0 in /home/orion/anaconda3/lib/python3.12/site-packages (from torch) (4.11.0)\n",
      "Requirement already satisfied: setuptools in /home/orion/anaconda3/lib/python3.12/site-packages (from torch) (75.1.0)\n",
      "Requirement already satisfied: sympy>=1.13.3 in /home/orion/anaconda3/lib/python3.12/site-packages (from torch) (1.14.0)\n",
      "Requirement already satisfied: networkx in /home/orion/anaconda3/lib/python3.12/site-packages (from torch) (3.3)\n",
      "Requirement already satisfied: jinja2 in /home/orion/anaconda3/lib/python3.12/site-packages (from torch) (3.1.4)\n",
      "Requirement already satisfied: fsspec in /home/orion/anaconda3/lib/python3.12/site-packages (from torch) (2023.10.0)\n",
      "Requirement already satisfied: nvidia-cuda-nvrtc-cu12==12.6.77 in /home/orion/anaconda3/lib/python3.12/site-packages (from torch) (12.6.77)\n",
      "Requirement already satisfied: nvidia-cuda-runtime-cu12==12.6.77 in /home/orion/anaconda3/lib/python3.12/site-packages (from torch) (12.6.77)\n",
      "Requirement already satisfied: nvidia-cuda-cupti-cu12==12.6.80 in /home/orion/anaconda3/lib/python3.12/site-packages (from torch) (12.6.80)\n",
      "Requirement already satisfied: nvidia-cudnn-cu12==9.5.1.17 in /home/orion/anaconda3/lib/python3.12/site-packages (from torch) (9.5.1.17)\n",
      "Requirement already satisfied: nvidia-cublas-cu12==12.6.4.1 in /home/orion/anaconda3/lib/python3.12/site-packages (from torch) (12.6.4.1)\n",
      "Requirement already satisfied: nvidia-cufft-cu12==11.3.0.4 in /home/orion/anaconda3/lib/python3.12/site-packages (from torch) (11.3.0.4)\n",
      "Requirement already satisfied: nvidia-curand-cu12==10.3.7.77 in /home/orion/anaconda3/lib/python3.12/site-packages (from torch) (10.3.7.77)\n",
      "Requirement already satisfied: nvidia-cusolver-cu12==11.7.1.2 in /home/orion/anaconda3/lib/python3.12/site-packages (from torch) (11.7.1.2)\n",
      "Requirement already satisfied: nvidia-cusparse-cu12==12.5.4.2 in /home/orion/anaconda3/lib/python3.12/site-packages (from torch) (12.5.4.2)\n",
      "Requirement already satisfied: nvidia-cusparselt-cu12==0.6.3 in /home/orion/anaconda3/lib/python3.12/site-packages (from torch) (0.6.3)\n",
      "Requirement already satisfied: nvidia-nccl-cu12==2.26.2 in /home/orion/anaconda3/lib/python3.12/site-packages (from torch) (2.26.2)\n",
      "Requirement already satisfied: nvidia-nvtx-cu12==12.6.77 in /home/orion/anaconda3/lib/python3.12/site-packages (from torch) (12.6.77)\n",
      "Requirement already satisfied: nvidia-nvjitlink-cu12==12.6.85 in /home/orion/anaconda3/lib/python3.12/site-packages (from torch) (12.6.85)\n",
      "Requirement already satisfied: nvidia-cufile-cu12==1.11.1.6 in /home/orion/anaconda3/lib/python3.12/site-packages (from torch) (1.11.1.6)\n",
      "Requirement already satisfied: triton==3.3.0 in /home/orion/anaconda3/lib/python3.12/site-packages (from torch) (3.3.0)\n",
      "Requirement already satisfied: pyarrow>=8.0.0 in /home/orion/anaconda3/lib/python3.12/site-packages (from datasets) (16.1.0)\n",
      "Requirement already satisfied: pyarrow-hotfix in /home/orion/anaconda3/lib/python3.12/site-packages (from datasets) (0.7)\n",
      "Requirement already satisfied: dill<0.3.8,>=0.3.0 in /home/orion/anaconda3/lib/python3.12/site-packages (from datasets) (0.3.7)\n",
      "Requirement already satisfied: pandas in /home/orion/anaconda3/lib/python3.12/site-packages (from datasets) (2.2.2)\n",
      "Requirement already satisfied: requests>=2.19.0 in /home/orion/anaconda3/lib/python3.12/site-packages (from datasets) (2.32.3)\n",
      "Requirement already satisfied: tqdm>=4.62.1 in /home/orion/anaconda3/lib/python3.12/site-packages (from datasets) (4.66.5)\n",
      "Requirement already satisfied: xxhash in /home/orion/anaconda3/lib/python3.12/site-packages (from datasets) (3.5.0)\n",
      "Requirement already satisfied: multiprocess in /home/orion/anaconda3/lib/python3.12/site-packages (from datasets) (0.70.15)\n",
      "Requirement already satisfied: aiohttp in /home/orion/anaconda3/lib/python3.12/site-packages (from datasets) (3.10.5)\n",
      "Requirement already satisfied: huggingface-hub<1.0.0,>=0.14.0 in /home/orion/anaconda3/lib/python3.12/site-packages (from datasets) (0.17.3)\n",
      "Requirement already satisfied: packaging in /home/orion/anaconda3/lib/python3.12/site-packages (from datasets) (24.1)\n",
      "Requirement already satisfied: pyyaml>=5.1 in /home/orion/anaconda3/lib/python3.12/site-packages (from datasets) (6.0.1)\n",
      "Requirement already satisfied: contourpy>=1.0.1 in /home/orion/anaconda3/lib/python3.12/site-packages (from matplotlib) (1.2.0)\n",
      "Requirement already satisfied: cycler>=0.10 in /home/orion/anaconda3/lib/python3.12/site-packages (from matplotlib) (0.11.0)\n",
      "Requirement already satisfied: fonttools>=4.22.0 in /home/orion/anaconda3/lib/python3.12/site-packages (from matplotlib) (4.51.0)\n",
      "Requirement already satisfied: kiwisolver>=1.3.1 in /home/orion/anaconda3/lib/python3.12/site-packages (from matplotlib) (1.4.4)\n",
      "Requirement already satisfied: pillow>=8 in /home/orion/anaconda3/lib/python3.12/site-packages (from matplotlib) (10.4.0)\n",
      "Requirement already satisfied: pyparsing>=2.3.1 in /home/orion/anaconda3/lib/python3.12/site-packages (from matplotlib) (3.1.2)\n",
      "Requirement already satisfied: python-dateutil>=2.7 in /home/orion/anaconda3/lib/python3.12/site-packages (from matplotlib) (2.9.0.post0)\n",
      "Requirement already satisfied: aiohappyeyeballs>=2.3.0 in /home/orion/anaconda3/lib/python3.12/site-packages (from aiohttp->datasets) (2.4.0)\n",
      "Requirement already satisfied: aiosignal>=1.1.2 in /home/orion/anaconda3/lib/python3.12/site-packages (from aiohttp->datasets) (1.2.0)\n",
      "Requirement already satisfied: attrs>=17.3.0 in /home/orion/anaconda3/lib/python3.12/site-packages (from aiohttp->datasets) (23.1.0)\n",
      "Requirement already satisfied: frozenlist>=1.1.1 in /home/orion/anaconda3/lib/python3.12/site-packages (from aiohttp->datasets) (1.4.0)\n",
      "Requirement already satisfied: multidict<7.0,>=4.5 in /home/orion/anaconda3/lib/python3.12/site-packages (from aiohttp->datasets) (6.0.4)\n",
      "Requirement already satisfied: yarl<2.0,>=1.0 in /home/orion/anaconda3/lib/python3.12/site-packages (from aiohttp->datasets) (1.11.0)\n",
      "Requirement already satisfied: pytz>=2020.1 in /home/orion/anaconda3/lib/python3.12/site-packages (from pandas->datasets) (2024.1)\n",
      "Requirement already satisfied: tzdata>=2022.7 in /home/orion/anaconda3/lib/python3.12/site-packages (from pandas->datasets) (2023.3)\n",
      "Requirement already satisfied: six>=1.5 in /home/orion/anaconda3/lib/python3.12/site-packages (from python-dateutil>=2.7->matplotlib) (1.16.0)\n",
      "Requirement already satisfied: charset-normalizer<4,>=2 in /home/orion/anaconda3/lib/python3.12/site-packages (from requests>=2.19.0->datasets) (3.3.2)\n",
      "Requirement already satisfied: idna<4,>=2.5 in /home/orion/anaconda3/lib/python3.12/site-packages (from requests>=2.19.0->datasets) (3.7)\n",
      "Requirement already satisfied: urllib3<3,>=1.21.1 in /home/orion/anaconda3/lib/python3.12/site-packages (from requests>=2.19.0->datasets) (2.2.3)\n",
      "Requirement already satisfied: certifi>=2017.4.17 in /home/orion/anaconda3/lib/python3.12/site-packages (from requests>=2.19.0->datasets) (2025.1.31)\n",
      "Requirement already satisfied: mpmath<1.4,>=1.1.0 in /home/orion/anaconda3/lib/python3.12/site-packages (from sympy>=1.13.3->torch) (1.3.0)\n",
      "Requirement already satisfied: MarkupSafe>=2.0 in /home/orion/anaconda3/lib/python3.12/site-packages (from jinja2->torch) (2.1.3)\n",
      "Found existing installation: datasets 2.14.7\n",
      "Uninstalling datasets-2.14.7:\n",
      "  Successfully uninstalled datasets-2.14.7\n",
      "Found existing installation: fsspec 2023.10.0\n",
      "Uninstalling fsspec-2023.10.0:\n",
      "  Successfully uninstalled fsspec-2023.10.0\n",
      "Found existing installation: huggingface-hub 0.17.3\n",
      "Uninstalling huggingface-hub-0.17.3:\n",
      "  Successfully uninstalled huggingface-hub-0.17.3\n",
      "Found existing installation: transformers 4.35.2\n",
      "Uninstalling transformers-4.35.2:\n",
      "  Successfully uninstalled transformers-4.35.2\n",
      "Found existing installation: tokenizers 0.15.0\n",
      "Uninstalling tokenizers-0.15.0:\n",
      "  Successfully uninstalled tokenizers-0.15.0\n",
      "Collecting datasets==2.14.7\n",
      "  Using cached datasets-2.14.7-py3-none-any.whl.metadata (19 kB)\n",
      "Collecting fsspec==2023.10.0\n",
      "  Using cached fsspec-2023.10.0-py3-none-any.whl.metadata (6.8 kB)\n",
      "Collecting huggingface_hub==0.17.3\n",
      "  Using cached huggingface_hub-0.17.3-py3-none-any.whl.metadata (13 kB)\n",
      "Collecting transformers==4.35.2\n",
      "  Using cached transformers-4.35.2-py3-none-any.whl.metadata (123 kB)\n",
      "Collecting tokenizers==0.15.0\n",
      "  Using cached tokenizers-0.15.0-cp312-cp312-manylinux_2_17_x86_64.manylinux2014_x86_64.whl.metadata (6.7 kB)\n",
      "Requirement already satisfied: numpy>=1.17 in /home/orion/anaconda3/lib/python3.12/site-packages (from datasets==2.14.7) (1.26.4)\n",
      "Requirement already satisfied: pyarrow>=8.0.0 in /home/orion/anaconda3/lib/python3.12/site-packages (from datasets==2.14.7) (16.1.0)\n",
      "Requirement already satisfied: pyarrow-hotfix in /home/orion/anaconda3/lib/python3.12/site-packages (from datasets==2.14.7) (0.7)\n",
      "Requirement already satisfied: dill<0.3.8,>=0.3.0 in /home/orion/anaconda3/lib/python3.12/site-packages (from datasets==2.14.7) (0.3.7)\n",
      "Requirement already satisfied: pandas in /home/orion/anaconda3/lib/python3.12/site-packages (from datasets==2.14.7) (2.2.2)\n",
      "Requirement already satisfied: requests>=2.19.0 in /home/orion/anaconda3/lib/python3.12/site-packages (from datasets==2.14.7) (2.32.3)\n",
      "Requirement already satisfied: tqdm>=4.62.1 in /home/orion/anaconda3/lib/python3.12/site-packages (from datasets==2.14.7) (4.66.5)\n",
      "Requirement already satisfied: xxhash in /home/orion/anaconda3/lib/python3.12/site-packages (from datasets==2.14.7) (3.5.0)\n",
      "Requirement already satisfied: multiprocess in /home/orion/anaconda3/lib/python3.12/site-packages (from datasets==2.14.7) (0.70.15)\n",
      "Requirement already satisfied: aiohttp in /home/orion/anaconda3/lib/python3.12/site-packages (from datasets==2.14.7) (3.10.5)\n",
      "Requirement already satisfied: packaging in /home/orion/anaconda3/lib/python3.12/site-packages (from datasets==2.14.7) (24.1)\n",
      "Requirement already satisfied: pyyaml>=5.1 in /home/orion/anaconda3/lib/python3.12/site-packages (from datasets==2.14.7) (6.0.1)\n",
      "Requirement already satisfied: filelock in /home/orion/anaconda3/lib/python3.12/site-packages (from huggingface_hub==0.17.3) (3.13.1)\n",
      "Requirement already satisfied: typing-extensions>=3.7.4.3 in /home/orion/anaconda3/lib/python3.12/site-packages (from huggingface_hub==0.17.3) (4.11.0)\n",
      "Requirement already satisfied: regex!=2019.12.17 in /home/orion/anaconda3/lib/python3.12/site-packages (from transformers==4.35.2) (2024.9.11)\n",
      "Requirement already satisfied: safetensors>=0.3.1 in /home/orion/anaconda3/lib/python3.12/site-packages (from transformers==4.35.2) (0.5.3)\n",
      "Requirement already satisfied: aiohappyeyeballs>=2.3.0 in /home/orion/anaconda3/lib/python3.12/site-packages (from aiohttp->datasets==2.14.7) (2.4.0)\n",
      "Requirement already satisfied: aiosignal>=1.1.2 in /home/orion/anaconda3/lib/python3.12/site-packages (from aiohttp->datasets==2.14.7) (1.2.0)\n",
      "Requirement already satisfied: attrs>=17.3.0 in /home/orion/anaconda3/lib/python3.12/site-packages (from aiohttp->datasets==2.14.7) (23.1.0)\n",
      "Requirement already satisfied: frozenlist>=1.1.1 in /home/orion/anaconda3/lib/python3.12/site-packages (from aiohttp->datasets==2.14.7) (1.4.0)\n",
      "Requirement already satisfied: multidict<7.0,>=4.5 in /home/orion/anaconda3/lib/python3.12/site-packages (from aiohttp->datasets==2.14.7) (6.0.4)\n",
      "Requirement already satisfied: yarl<2.0,>=1.0 in /home/orion/anaconda3/lib/python3.12/site-packages (from aiohttp->datasets==2.14.7) (1.11.0)\n",
      "Requirement already satisfied: charset-normalizer<4,>=2 in /home/orion/anaconda3/lib/python3.12/site-packages (from requests>=2.19.0->datasets==2.14.7) (3.3.2)\n",
      "Requirement already satisfied: idna<4,>=2.5 in /home/orion/anaconda3/lib/python3.12/site-packages (from requests>=2.19.0->datasets==2.14.7) (3.7)\n",
      "Requirement already satisfied: urllib3<3,>=1.21.1 in /home/orion/anaconda3/lib/python3.12/site-packages (from requests>=2.19.0->datasets==2.14.7) (2.2.3)\n",
      "Requirement already satisfied: certifi>=2017.4.17 in /home/orion/anaconda3/lib/python3.12/site-packages (from requests>=2.19.0->datasets==2.14.7) (2025.1.31)\n",
      "Requirement already satisfied: python-dateutil>=2.8.2 in /home/orion/anaconda3/lib/python3.12/site-packages (from pandas->datasets==2.14.7) (2.9.0.post0)\n",
      "Requirement already satisfied: pytz>=2020.1 in /home/orion/anaconda3/lib/python3.12/site-packages (from pandas->datasets==2.14.7) (2024.1)\n",
      "Requirement already satisfied: tzdata>=2022.7 in /home/orion/anaconda3/lib/python3.12/site-packages (from pandas->datasets==2.14.7) (2023.3)\n",
      "Requirement already satisfied: six>=1.5 in /home/orion/anaconda3/lib/python3.12/site-packages (from python-dateutil>=2.8.2->pandas->datasets==2.14.7) (1.16.0)\n",
      "Using cached datasets-2.14.7-py3-none-any.whl (520 kB)\n",
      "Using cached fsspec-2023.10.0-py3-none-any.whl (166 kB)\n",
      "Using cached huggingface_hub-0.17.3-py3-none-any.whl (295 kB)\n",
      "Using cached transformers-4.35.2-py3-none-any.whl (7.9 MB)\n",
      "Using cached tokenizers-0.15.0-cp312-cp312-manylinux_2_17_x86_64.manylinux2014_x86_64.whl (3.8 MB)\n",
      "Installing collected packages: fsspec, huggingface_hub, tokenizers, transformers, datasets\n",
      "\u001b[31mERROR: pip's dependency resolver does not currently take into account all the packages that are installed. This behaviour is the source of the following dependency conflicts.\n",
      "s3fs 2024.6.1 requires fsspec==2024.6.1.*, but you have fsspec 2023.10.0 which is incompatible.\u001b[0m\u001b[31m\n",
      "\u001b[0mSuccessfully installed datasets-2.14.7 fsspec-2023.10.0 huggingface_hub-0.17.3 tokenizers-0.15.0 transformers-4.35.2\n",
      "Requirement already satisfied: torch-geometric in /home/orion/anaconda3/lib/python3.12/site-packages (2.6.1)\n",
      "Requirement already satisfied: aiohttp in /home/orion/anaconda3/lib/python3.12/site-packages (from torch-geometric) (3.10.5)\n",
      "Requirement already satisfied: fsspec in /home/orion/anaconda3/lib/python3.12/site-packages (from torch-geometric) (2023.10.0)\n",
      "Requirement already satisfied: jinja2 in /home/orion/anaconda3/lib/python3.12/site-packages (from torch-geometric) (3.1.4)\n",
      "Requirement already satisfied: numpy in /home/orion/anaconda3/lib/python3.12/site-packages (from torch-geometric) (1.26.4)\n",
      "Requirement already satisfied: psutil>=5.8.0 in /home/orion/anaconda3/lib/python3.12/site-packages (from torch-geometric) (5.9.0)\n",
      "Requirement already satisfied: pyparsing in /home/orion/anaconda3/lib/python3.12/site-packages (from torch-geometric) (3.1.2)\n",
      "Requirement already satisfied: requests in /home/orion/anaconda3/lib/python3.12/site-packages (from torch-geometric) (2.32.3)\n",
      "Requirement already satisfied: tqdm in /home/orion/anaconda3/lib/python3.12/site-packages (from torch-geometric) (4.66.5)\n",
      "Requirement already satisfied: aiohappyeyeballs>=2.3.0 in /home/orion/anaconda3/lib/python3.12/site-packages (from aiohttp->torch-geometric) (2.4.0)\n",
      "Requirement already satisfied: aiosignal>=1.1.2 in /home/orion/anaconda3/lib/python3.12/site-packages (from aiohttp->torch-geometric) (1.2.0)\n",
      "Requirement already satisfied: attrs>=17.3.0 in /home/orion/anaconda3/lib/python3.12/site-packages (from aiohttp->torch-geometric) (23.1.0)\n",
      "Requirement already satisfied: frozenlist>=1.1.1 in /home/orion/anaconda3/lib/python3.12/site-packages (from aiohttp->torch-geometric) (1.4.0)\n",
      "Requirement already satisfied: multidict<7.0,>=4.5 in /home/orion/anaconda3/lib/python3.12/site-packages (from aiohttp->torch-geometric) (6.0.4)\n",
      "Requirement already satisfied: yarl<2.0,>=1.0 in /home/orion/anaconda3/lib/python3.12/site-packages (from aiohttp->torch-geometric) (1.11.0)\n",
      "Requirement already satisfied: MarkupSafe>=2.0 in /home/orion/anaconda3/lib/python3.12/site-packages (from jinja2->torch-geometric) (2.1.3)\n",
      "Requirement already satisfied: charset-normalizer<4,>=2 in /home/orion/anaconda3/lib/python3.12/site-packages (from requests->torch-geometric) (3.3.2)\n",
      "Requirement already satisfied: idna<4,>=2.5 in /home/orion/anaconda3/lib/python3.12/site-packages (from requests->torch-geometric) (3.7)\n",
      "Requirement already satisfied: urllib3<3,>=1.21.1 in /home/orion/anaconda3/lib/python3.12/site-packages (from requests->torch-geometric) (2.2.3)\n",
      "Requirement already satisfied: certifi>=2017.4.17 in /home/orion/anaconda3/lib/python3.12/site-packages (from requests->torch-geometric) (2025.1.31)\n"
     ]
    }
   ],
   "source": [
    "!pip install torch datasets numpy matplotlib seaborn\n",
    "!pip uninstall -y datasets fsspec huggingface_hub transformers tokenizers\n",
    "!rm -rf ~/.cache/huggingface/datasets\n",
    "!pip install datasets==2.14.7 fsspec==2023.10.0 huggingface_hub==0.17.3 transformers==4.35.2 tokenizers==0.15.0\n",
    "!pip install torch-geometric"
   ]
  },
  {
   "cell_type": "code",
   "execution_count": 8,
   "metadata": {},
   "outputs": [
    {
     "name": "stdout",
     "output_type": "stream",
     "text": [
      "2.7.0+cu126\n"
     ]
    }
   ],
   "source": [
    "import torch\n",
    "print(torch.__version__)\n"
   ]
  },
  {
   "cell_type": "code",
   "execution_count": 3,
   "metadata": {
    "colab": {
     "base_uri": "https://localhost:8080/"
    },
    "id": "IXQNwA_X4FcH",
    "outputId": "8b52e9a0-356e-43b4-91d9-dcf3821ff610"
   },
   "outputs": [
    {
     "name": "stdout",
     "output_type": "stream",
     "text": [
      "Looking in links: https://data.pyg.org/whl/torch-2.6.0+cu124.html\n",
      "Requirement already satisfied: pyg_lib in /home/orion/anaconda3/lib/python3.12/site-packages (0.4.0+pt26cu124)\n",
      "Requirement already satisfied: torch_scatter in /home/orion/anaconda3/lib/python3.12/site-packages (2.1.2+pt26cu124)\n",
      "Requirement already satisfied: torch_sparse in /home/orion/anaconda3/lib/python3.12/site-packages (0.6.18+pt26cu124)\n",
      "Requirement already satisfied: torch_cluster in /home/orion/anaconda3/lib/python3.12/site-packages (1.6.3+pt26cu124)\n",
      "Requirement already satisfied: torch_spline_conv in /home/orion/anaconda3/lib/python3.12/site-packages (1.2.2+pt26cu124)\n",
      "Requirement already satisfied: scipy in /home/orion/anaconda3/lib/python3.12/site-packages (from torch_sparse) (1.13.1)\n",
      "Requirement already satisfied: numpy<2.3,>=1.22.4 in /home/orion/anaconda3/lib/python3.12/site-packages (from scipy->torch_sparse) (1.26.4)\n"
     ]
    }
   ],
   "source": [
    "!pip install pyg_lib torch_scatter torch_sparse torch_cluster torch_spline_conv -f https://data.pyg.org/whl/torch-2.7.0+cu126.html"
   ]
  },
  {
   "cell_type": "markdown",
   "metadata": {
    "id": "MuvohLe0Mqd8"
   },
   "source": [
    "<h1>Optimized Test Run</h1>\n"
   ]
  },
  {
   "cell_type": "code",
   "execution_count": null,
   "metadata": {
    "colab": {
     "base_uri": "https://localhost:8080/"
    },
    "id": "GGvQC2DYchRt",
    "outputId": "306e516f-1f53-4567-c6c0-64fb9a76ccac"
   },
   "outputs": [
    {
     "name": "stdout",
     "output_type": "stream",
     "text": [
      "/usr/local/lib/python3.11/dist-packages/transformers/utils/generic.py:441: FutureWarning: `torch.utils._pytree._register_pytree_node` is deprecated. Please use `torch.utils._pytree.register_pytree_node` instead.\n",
      "  _torch_pytree._register_pytree_node(\n",
      "Adjusting num_heads from 8 to 4 based on embed_dim 256\n",
      "Adjusting num_heads from 8 to 4 based on embed_dim 256\n",
      "Overriding config.embed_dim with CLI arg: 512\n",
      "Overriding config.num_layers with CLI arg: 8\n",
      "Overriding config.num_experts with CLI arg: 2\n",
      "Overriding config.gnn_layers with CLI arg: 3\n",
      "Overriding config.coupler_type with CLI arg: HGNN\n",
      "Overriding config.batch_size with CLI arg: 16\n",
      "Overriding config.epochs with CLI arg: 10\n",
      "Overriding config.eval_every with CLI arg: 250\n",
      "===== GNN-MoE Hyperparameter Script Execution Started =====\n",
      "Run Name: hgnn_vs_gnn_optimal_showdown\n",
      "Effective Config: GNNMoEConfig(vocab_size=50257, max_seq_length=128, embed_dim=512, num_layers=8, num_heads=4, dropout_rate=0.1, num_experts=2, gnn_layers=3, batch_size=16, learning_rate=0.0005, epochs=10, max_batches_per_epoch=-1, eval_every=250, dataset_name='wikitext', dataset_config_name='wikitext-2-v1', num_train_samples=-1, num_eval_samples=-1, checkpoint_dir='checkpoints/hgnn_vs_gnn_optimal_showdown', resume_checkpoint=None, run_name='hgnn_vs_gnn_optimal_showdown', seed=42, num_workers_dataloader=2, coupler_type='HGNN', hgnn_conv_type='HypergraphConv', static_hyperedge_strategy='all_pairs', hgnn_learnable_edge_weights=True)\n",
      "🚀 Device: CUDA (Available: 1)\n",
      "✅ Environment ready. Seed: 42, Device: cuda\n",
      "🚀 Setting up data loading for wikitext / wikitext-2-v1...\n",
      "📦 Attempting wikitext (wikitext-2-v1) dataset loading...\n",
      "Raw lines >30 chars: Train 18131, Eval 1913\n",
      "✅ SUCCESS: Real wikitext-2-v1 data loaded!\n",
      "\n",
      "✅ DATA LOADING COMPLETE!\n",
      "🎯 Mode: REAL_WIKITEXT_2_V1\n",
      "📊 Train samples: 18131, Eval samples: 1913\n",
      "📦 Train batches: 1134, Eval batches: 120\n",
      "🔤 Vocabulary: 50,257 tokens (using gpt2)\n",
      "\n",
      "🏗️ Creating GNN-MoE Model with effective vocab_size: 50257\n",
      "Using HGNNExpertCoupler for MoE layer with all_pairs strategy.\n",
      "Using HGNNExpertCoupler for MoE layer with all_pairs strategy.\n",
      "Using HGNNExpertCoupler for MoE layer with all_pairs strategy.\n",
      "Using HGNNExpertCoupler for MoE layer with all_pairs strategy.\n",
      "Using HGNNExpertCoupler for MoE layer with all_pairs strategy.\n",
      "Using HGNNExpertCoupler for MoE layer with all_pairs strategy.\n",
      "Using HGNNExpertCoupler for MoE layer with all_pairs strategy.\n",
      "Using HGNNExpertCoupler for MoE layer with all_pairs strategy.\n",
      "\n",
      "🚀 Starting/Resuming HGNN-MoE Training on cuda\n",
      "📊 Model: 110,431,321 parameters\n",
      "🎯 Training: 10 epochs × 1134 batches/epoch = 11340 total steps\n",
      "💾 Checkpoints will be saved in: checkpoints/hgnn_vs_gnn_optimal_showdown\n",
      "Epoch 1/10:   8% 90/1134 [03:08<36:45,  2.11s/it, loss=7.0344, grad=0.75, tok/s=976, lr=5.0e-04]"
     ]
    }
   ],
   "source": [
    "!python run_gnn_moe.py \\\n",
    "  --coupler_type HGNN \\\n",
    "  --static_hyperedge_strategy all_pairs \\\n",
    "  --hgnn_learnable_edge_weights \\\n",
    "  --embed_dim 512 \\\n",
    "  --num_layers 8 \\\n",
    "  --batch_size 16 \\\n",
    "  --learning_rate 0.0005 \\\n",
    "  --gnn_layers 3 \\\n",
    "  --num_experts 2 \\\n",
    "  --epochs 10 \\\n",
    "  --eval_every 250 \\\n",
    "  --run_name \"hgnn_vs_gnn_optimal_showdown\" \\\n",
    "  --dataset_config_name wikitext-2-v1\n"
   ]
  },
  {
   "cell_type": "markdown",
   "metadata": {},
   "source": [
    "<h1>Ghost Ops</h1>"
   ]
  },
  {
   "cell_type": "markdown",
   "metadata": {},
   "source": [
    "## Ghost Expert Architecture Training\n"
   ]
  },
  {
   "cell_type": "code",
   "execution_count": null,
   "metadata": {
    "id": "B2AMEeBWd9LL"
   },
   "outputs": [],
   "source": [
    "# Ghost Expert Architecture Training\n",
    "!python -m ghost.run_gnn_moe \\\n",
    "  --embed_dim 256 \\\n",
    "  --num_layers 4 \\\n",
    "  --num_experts 4 \\\n",
    "  --num_ghost_experts 4 \\\n",
    "  --ghost_activation_threshold 0.75 \\\n",
    "  --ghost_learning_rate 1e-4 \\\n",
    "  --epochs 3 \\\n",
    "  --max_batches_per_epoch 100 \\\n",
    "  --eval_every 50 \\\n",
    "  --run_name \"ghost_notebook_demo\" \\\n",
    "  --dataset_config_name wikitext-2-v1\n"
   ]
  },
  {
   "cell_type": "code",
   "execution_count": null,
   "metadata": {},
   "outputs": [],
   "source": [
    "# Test different ghost configurations\n",
    "!python ghost/tests/run_ghost_sweep.py\n"
   ]
  },
  {
   "cell_type": "code",
   "execution_count": null,
   "metadata": {},
   "outputs": [],
   "source": [
    "# Test different architecture configurations\n",
    "!python ghost/tests/run_architecture_sweep.py\n"
   ]
  },
  {
   "cell_type": "code",
   "execution_count": null,
   "metadata": {},
   "outputs": [],
   "source": [
    "import glob\n",
    "import os\n",
    "\n",
    "# Find latest sweep\n",
    "sweep_dirs = glob.glob('ghost/tests/sweeps/*')\n",
    "if sweep_dirs:\n",
    "    latest_sweep = max(sweep_dirs, key=os.path.getctime)\n",
    "    print(f\"Analyzing: {latest_sweep}\")\n",
    "    !python ghost/tests/enhanced_analysis.py {latest_sweep}\n",
    "else:\n",
    "    print(\"No sweeps found\")\n"
   ]
  },
  {
   "cell_type": "markdown",
   "metadata": {},
   "source": [
    "### Load and Visualize"
   ]
  },
  {
   "cell_type": "code",
   "execution_count": null,
   "metadata": {},
   "outputs": [],
   "source": [
    "import json\n",
    "import pandas as pd\n",
    "import matplotlib.pyplot as plt\n",
    "\n",
    "# Load latest training log\n",
    "log_files = glob.glob('ghost/tests/sweeps/*/*/training_log.json')\n",
    "if log_files:\n",
    "    latest_log = max(log_files, key=os.path.getctime)\n",
    "    with open(latest_log, 'r') as f:\n",
    "        training_data = json.load(f)\n",
    "    \n",
    "    df = pd.DataFrame(training_data)\n",
    "    \n",
    "    # Plot ghost activations over time\n",
    "    fig, (ax1, ax2) = plt.subplots(2, 1, figsize=(12, 8))\n",
    "    \n",
    "    # Ghost activations\n",
    "    ghost_activations = pd.DataFrame(df['ghost_activations'].tolist(), index=df['step'])\n",
    "    ghost_activations.plot(ax=ax1, title='Ghost Expert Activation Levels')\n",
    "    ax1.set_ylabel('Activation Level')\n",
    "    \n",
    "    # Saturation vs Orthogonality\n",
    "    ax2.plot(df['step'], df['saturation_level'], label='Saturation', color='red')\n",
    "    ax2_twin = ax2.twinx()\n",
    "    ax2_twin.plot(df['step'], df['orthogonality_score'], label='Orthogonality', color='blue')\n",
    "    ax2.set_title('Expert Dynamics')\n",
    "    ax2.set_xlabel('Training Step')\n",
    "    ax2.legend(loc='upper left')\n",
    "    ax2_twin.legend(loc='upper right')\n",
    "    \n",
    "    plt.tight_layout()\n",
    "    plt.show()\n",
    "    \n",
    "    print(f\"Final ghost activations: {df.iloc[-1]['ghost_activations']}\")\n",
    "    print(f\"Final saturation: {df.iloc[-1]['saturation_level']:.3f}\")\n",
    "else:\n",
    "    print(\"No training logs found\")\n"
   ]
  },
  {
   "cell_type": "code",
   "execution_count": null,
   "metadata": {},
   "outputs": [],
   "source": []
  }
 ],
 "metadata": {
  "accelerator": "GPU",
  "colab": {
   "gpuType": "A100",
   "machine_shape": "hm",
   "provenance": []
  },
  "kernelspec": {
   "display_name": "Python 3 (ipykernel)",
   "language": "python",
   "name": "python3"
  },
  "language_info": {
   "codemirror_mode": {
    "name": "ipython",
    "version": 3
   },
   "file_extension": ".py",
   "mimetype": "text/x-python",
   "name": "python",
   "nbconvert_exporter": "python",
   "pygments_lexer": "ipython3",
   "version": "3.12.7"
  }
 },
 "nbformat": 4,
 "nbformat_minor": 4
}

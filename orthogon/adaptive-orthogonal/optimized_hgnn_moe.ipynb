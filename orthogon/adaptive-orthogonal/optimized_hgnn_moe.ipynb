{
 "cells": [
  {
   "cell_type": "code",
   "execution_count": 1,
   "metadata": {
    "colab": {
     "base_uri": "https://localhost:8080/"
    },
    "id": "u8x17zlSzp8q",
    "outputId": "7205941e-b806-433b-b659-c2645caea15c",
    "scrolled": true
   },
   "outputs": [
    {
     "name": "stdout",
     "output_type": "stream",
     "text": [
      "Defaulting to user installation because normal site-packages is not writeable\n",
      "Requirement already satisfied: torch in /home/orion/.local/lib/python3.10/site-packages (2.7.1)\n",
      "Requirement already satisfied: datasets in /home/orion/.local/lib/python3.10/site-packages (2.14.7)\n",
      "Requirement already satisfied: numpy in /home/orion/.local/lib/python3.10/site-packages (2.2.6)\n",
      "Requirement already satisfied: matplotlib in /home/orion/.local/lib/python3.10/site-packages (3.10.3)\n",
      "Requirement already satisfied: seaborn in /home/orion/.local/lib/python3.10/site-packages (0.13.2)\n",
      "Requirement already satisfied: sympy>=1.13.3 in /home/orion/.local/lib/python3.10/site-packages (from torch) (1.14.0)\n",
      "Requirement already satisfied: nvidia-cufile-cu12==1.11.1.6 in /home/orion/.local/lib/python3.10/site-packages (from torch) (1.11.1.6)\n",
      "Requirement already satisfied: nvidia-cublas-cu12==12.6.4.1 in /home/orion/.local/lib/python3.10/site-packages (from torch) (12.6.4.1)\n",
      "Requirement already satisfied: nvidia-cuda-nvrtc-cu12==12.6.77 in /home/orion/.local/lib/python3.10/site-packages (from torch) (12.6.77)\n",
      "Requirement already satisfied: nvidia-nvtx-cu12==12.6.77 in /home/orion/.local/lib/python3.10/site-packages (from torch) (12.6.77)\n",
      "Requirement already satisfied: nvidia-cusolver-cu12==11.7.1.2 in /home/orion/.local/lib/python3.10/site-packages (from torch) (11.7.1.2)\n",
      "Requirement already satisfied: fsspec in /home/orion/.local/lib/python3.10/site-packages (from torch) (2023.10.0)\n",
      "Requirement already satisfied: nvidia-cusparselt-cu12==0.6.3 in /home/orion/.local/lib/python3.10/site-packages (from torch) (0.6.3)\n",
      "Requirement already satisfied: nvidia-curand-cu12==10.3.7.77 in /home/orion/.local/lib/python3.10/site-packages (from torch) (10.3.7.77)\n",
      "Requirement already satisfied: triton==3.3.1 in /home/orion/.local/lib/python3.10/site-packages (from torch) (3.3.1)\n",
      "Requirement already satisfied: nvidia-cudnn-cu12==9.5.1.17 in /home/orion/.local/lib/python3.10/site-packages (from torch) (9.5.1.17)\n",
      "Requirement already satisfied: typing-extensions>=4.10.0 in /home/orion/.local/lib/python3.10/site-packages (from torch) (4.14.0)\n",
      "Requirement already satisfied: nvidia-cuda-cupti-cu12==12.6.80 in /home/orion/.local/lib/python3.10/site-packages (from torch) (12.6.80)\n",
      "Requirement already satisfied: nvidia-cusparse-cu12==12.5.4.2 in /home/orion/.local/lib/python3.10/site-packages (from torch) (12.5.4.2)\n",
      "Requirement already satisfied: nvidia-nccl-cu12==2.26.2 in /home/orion/.local/lib/python3.10/site-packages (from torch) (2.26.2)\n",
      "Requirement already satisfied: jinja2 in /home/orion/.local/lib/python3.10/site-packages (from torch) (3.1.6)\n",
      "Requirement already satisfied: nvidia-cufft-cu12==11.3.0.4 in /home/orion/.local/lib/python3.10/site-packages (from torch) (11.3.0.4)\n",
      "Requirement already satisfied: filelock in /home/orion/.local/lib/python3.10/site-packages (from torch) (3.18.0)\n",
      "Requirement already satisfied: nvidia-nvjitlink-cu12==12.6.85 in /home/orion/.local/lib/python3.10/site-packages (from torch) (12.6.85)\n",
      "Requirement already satisfied: networkx in /home/orion/.local/lib/python3.10/site-packages (from torch) (3.4.2)\n",
      "Requirement already satisfied: nvidia-cuda-runtime-cu12==12.6.77 in /home/orion/.local/lib/python3.10/site-packages (from torch) (12.6.77)\n",
      "Requirement already satisfied: setuptools>=40.8.0 in /usr/lib/python3/dist-packages (from triton==3.3.1->torch) (59.6.0)\n",
      "Requirement already satisfied: xxhash in /home/orion/.local/lib/python3.10/site-packages (from datasets) (3.5.0)\n",
      "Requirement already satisfied: dill<0.3.8,>=0.3.0 in /home/orion/.local/lib/python3.10/site-packages (from datasets) (0.3.7)\n",
      "Requirement already satisfied: aiohttp in /home/orion/.local/lib/python3.10/site-packages (from datasets) (3.12.9)\n",
      "Requirement already satisfied: pyarrow>=8.0.0 in /home/orion/.local/lib/python3.10/site-packages (from datasets) (20.0.0)\n",
      "Requirement already satisfied: huggingface-hub<1.0.0,>=0.14.0 in /home/orion/.local/lib/python3.10/site-packages (from datasets) (0.17.3)\n",
      "Requirement already satisfied: packaging in /home/orion/.local/lib/python3.10/site-packages (from datasets) (25.0)\n",
      "Requirement already satisfied: pyarrow-hotfix in /home/orion/.local/lib/python3.10/site-packages (from datasets) (0.7)\n",
      "Requirement already satisfied: requests>=2.19.0 in /home/orion/.local/lib/python3.10/site-packages (from datasets) (2.32.3)\n",
      "Requirement already satisfied: multiprocess in /home/orion/.local/lib/python3.10/site-packages (from datasets) (0.70.15)\n",
      "Requirement already satisfied: pyyaml>=5.1 in /usr/lib/python3/dist-packages (from datasets) (5.4.1)\n",
      "Requirement already satisfied: pandas in /home/orion/.local/lib/python3.10/site-packages (from datasets) (2.2.3)\n",
      "Requirement already satisfied: tqdm>=4.62.1 in /home/orion/.local/lib/python3.10/site-packages (from datasets) (4.67.1)\n",
      "Requirement already satisfied: fonttools>=4.22.0 in /home/orion/.local/lib/python3.10/site-packages (from matplotlib) (4.58.1)\n",
      "Requirement already satisfied: cycler>=0.10 in /home/orion/.local/lib/python3.10/site-packages (from matplotlib) (0.12.1)\n",
      "Requirement already satisfied: python-dateutil>=2.7 in /home/orion/.local/lib/python3.10/site-packages (from matplotlib) (2.9.0.post0)\n",
      "Requirement already satisfied: pillow>=8 in /home/orion/.local/lib/python3.10/site-packages (from matplotlib) (11.2.1)\n",
      "Requirement already satisfied: contourpy>=1.0.1 in /home/orion/.local/lib/python3.10/site-packages (from matplotlib) (1.3.2)\n",
      "Requirement already satisfied: pyparsing>=2.3.1 in /usr/lib/python3/dist-packages (from matplotlib) (2.4.7)\n",
      "Requirement already satisfied: kiwisolver>=1.3.1 in /home/orion/.local/lib/python3.10/site-packages (from matplotlib) (1.4.8)\n",
      "Requirement already satisfied: async-timeout<6.0,>=4.0 in /home/orion/.local/lib/python3.10/site-packages (from aiohttp->datasets) (5.0.1)\n",
      "Requirement already satisfied: aiohappyeyeballs>=2.5.0 in /home/orion/.local/lib/python3.10/site-packages (from aiohttp->datasets) (2.6.1)\n",
      "Requirement already satisfied: propcache>=0.2.0 in /home/orion/.local/lib/python3.10/site-packages (from aiohttp->datasets) (0.3.1)\n",
      "Requirement already satisfied: aiosignal>=1.1.2 in /home/orion/.local/lib/python3.10/site-packages (from aiohttp->datasets) (1.3.2)\n",
      "Requirement already satisfied: frozenlist>=1.1.1 in /home/orion/.local/lib/python3.10/site-packages (from aiohttp->datasets) (1.6.2)\n",
      "Requirement already satisfied: multidict<7.0,>=4.5 in /home/orion/.local/lib/python3.10/site-packages (from aiohttp->datasets) (6.4.4)\n",
      "Requirement already satisfied: attrs>=17.3.0 in /home/orion/.local/lib/python3.10/site-packages (from aiohttp->datasets) (25.3.0)\n",
      "Requirement already satisfied: yarl<2.0,>=1.17.0 in /home/orion/.local/lib/python3.10/site-packages (from aiohttp->datasets) (1.20.0)\n",
      "Requirement already satisfied: pytz>=2020.1 in /usr/lib/python3/dist-packages (from pandas->datasets) (2022.1)\n",
      "Requirement already satisfied: tzdata>=2022.7 in /home/orion/.local/lib/python3.10/site-packages (from pandas->datasets) (2025.2)\n",
      "Requirement already satisfied: six>=1.5 in /usr/lib/python3/dist-packages (from python-dateutil>=2.7->matplotlib) (1.16.0)\n",
      "Requirement already satisfied: idna<4,>=2.5 in /usr/lib/python3/dist-packages (from requests>=2.19.0->datasets) (3.3)\n",
      "Requirement already satisfied: charset-normalizer<4,>=2 in /home/orion/.local/lib/python3.10/site-packages (from requests>=2.19.0->datasets) (3.4.2)\n",
      "Requirement already satisfied: urllib3<3,>=1.21.1 in /usr/lib/python3/dist-packages (from requests>=2.19.0->datasets) (1.26.5)\n",
      "Requirement already satisfied: certifi>=2017.4.17 in /usr/lib/python3/dist-packages (from requests>=2.19.0->datasets) (2020.6.20)\n",
      "Requirement already satisfied: mpmath<1.4,>=1.1.0 in /home/orion/.local/lib/python3.10/site-packages (from sympy>=1.13.3->torch) (1.3.0)\n",
      "Requirement already satisfied: MarkupSafe>=2.0 in /home/orion/.local/lib/python3.10/site-packages (from jinja2->torch) (3.0.2)\n",
      "Found existing installation: datasets 2.14.7\n",
      "Uninstalling datasets-2.14.7:\n",
      "  Successfully uninstalled datasets-2.14.7\n",
      "Found existing installation: fsspec 2023.10.0\n",
      "Uninstalling fsspec-2023.10.0:\n",
      "  Successfully uninstalled fsspec-2023.10.0\n",
      "Found existing installation: huggingface-hub 0.17.3\n",
      "Uninstalling huggingface-hub-0.17.3:\n",
      "  Successfully uninstalled huggingface-hub-0.17.3\n",
      "Found existing installation: transformers 4.35.2\n",
      "Uninstalling transformers-4.35.2:\n",
      "  Successfully uninstalled transformers-4.35.2\n",
      "Found existing installation: tokenizers 0.15.0\n",
      "Uninstalling tokenizers-0.15.0:\n",
      "  Successfully uninstalled tokenizers-0.15.0\n",
      "Defaulting to user installation because normal site-packages is not writeable\n",
      "Collecting datasets==2.14.7\n",
      "  Using cached datasets-2.14.7-py3-none-any.whl (520 kB)\n",
      "Collecting fsspec==2023.10.0\n",
      "  Using cached fsspec-2023.10.0-py3-none-any.whl (166 kB)\n",
      "Collecting huggingface_hub==0.17.3\n",
      "  Using cached huggingface_hub-0.17.3-py3-none-any.whl (295 kB)\n",
      "Collecting transformers==4.35.2\n",
      "  Using cached transformers-4.35.2-py3-none-any.whl (7.9 MB)\n",
      "Collecting tokenizers==0.15.0\n",
      "  Using cached tokenizers-0.15.0-cp310-cp310-manylinux_2_17_x86_64.manylinux2014_x86_64.whl (3.8 MB)\n",
      "Requirement already satisfied: dill<0.3.8,>=0.3.0 in /home/orion/.local/lib/python3.10/site-packages (from datasets==2.14.7) (0.3.7)\n",
      "Requirement already satisfied: aiohttp in /home/orion/.local/lib/python3.10/site-packages (from datasets==2.14.7) (3.12.9)\n",
      "Requirement already satisfied: xxhash in /home/orion/.local/lib/python3.10/site-packages (from datasets==2.14.7) (3.5.0)\n",
      "Requirement already satisfied: packaging in /home/orion/.local/lib/python3.10/site-packages (from datasets==2.14.7) (25.0)\n",
      "Requirement already satisfied: pyyaml>=5.1 in /usr/lib/python3/dist-packages (from datasets==2.14.7) (5.4.1)\n",
      "Requirement already satisfied: pyarrow>=8.0.0 in /home/orion/.local/lib/python3.10/site-packages (from datasets==2.14.7) (20.0.0)\n",
      "Requirement already satisfied: pandas in /home/orion/.local/lib/python3.10/site-packages (from datasets==2.14.7) (2.2.3)\n",
      "Requirement already satisfied: numpy>=1.17 in /home/orion/.local/lib/python3.10/site-packages (from datasets==2.14.7) (2.2.6)\n",
      "Requirement already satisfied: multiprocess in /home/orion/.local/lib/python3.10/site-packages (from datasets==2.14.7) (0.70.15)\n",
      "Requirement already satisfied: tqdm>=4.62.1 in /home/orion/.local/lib/python3.10/site-packages (from datasets==2.14.7) (4.67.1)\n",
      "Requirement already satisfied: pyarrow-hotfix in /home/orion/.local/lib/python3.10/site-packages (from datasets==2.14.7) (0.7)\n",
      "Requirement already satisfied: requests>=2.19.0 in /home/orion/.local/lib/python3.10/site-packages (from datasets==2.14.7) (2.32.3)\n",
      "Requirement already satisfied: typing-extensions>=3.7.4.3 in /home/orion/.local/lib/python3.10/site-packages (from huggingface_hub==0.17.3) (4.14.0)\n",
      "Requirement already satisfied: filelock in /home/orion/.local/lib/python3.10/site-packages (from huggingface_hub==0.17.3) (3.18.0)\n",
      "Requirement already satisfied: regex!=2019.12.17 in /home/orion/.local/lib/python3.10/site-packages (from transformers==4.35.2) (2024.11.6)\n",
      "Requirement already satisfied: safetensors>=0.3.1 in /home/orion/.local/lib/python3.10/site-packages (from transformers==4.35.2) (0.5.3)\n",
      "Requirement already satisfied: async-timeout<6.0,>=4.0 in /home/orion/.local/lib/python3.10/site-packages (from aiohttp->datasets==2.14.7) (5.0.1)\n",
      "Requirement already satisfied: propcache>=0.2.0 in /home/orion/.local/lib/python3.10/site-packages (from aiohttp->datasets==2.14.7) (0.3.1)\n",
      "Requirement already satisfied: aiosignal>=1.1.2 in /home/orion/.local/lib/python3.10/site-packages (from aiohttp->datasets==2.14.7) (1.3.2)\n",
      "Requirement already satisfied: frozenlist>=1.1.1 in /home/orion/.local/lib/python3.10/site-packages (from aiohttp->datasets==2.14.7) (1.6.2)\n",
      "Requirement already satisfied: attrs>=17.3.0 in /home/orion/.local/lib/python3.10/site-packages (from aiohttp->datasets==2.14.7) (25.3.0)\n",
      "Requirement already satisfied: aiohappyeyeballs>=2.5.0 in /home/orion/.local/lib/python3.10/site-packages (from aiohttp->datasets==2.14.7) (2.6.1)\n",
      "Requirement already satisfied: multidict<7.0,>=4.5 in /home/orion/.local/lib/python3.10/site-packages (from aiohttp->datasets==2.14.7) (6.4.4)\n",
      "Requirement already satisfied: yarl<2.0,>=1.17.0 in /home/orion/.local/lib/python3.10/site-packages (from aiohttp->datasets==2.14.7) (1.20.0)\n",
      "Requirement already satisfied: charset-normalizer<4,>=2 in /home/orion/.local/lib/python3.10/site-packages (from requests>=2.19.0->datasets==2.14.7) (3.4.2)\n",
      "Requirement already satisfied: certifi>=2017.4.17 in /usr/lib/python3/dist-packages (from requests>=2.19.0->datasets==2.14.7) (2020.6.20)\n",
      "Requirement already satisfied: urllib3<3,>=1.21.1 in /usr/lib/python3/dist-packages (from requests>=2.19.0->datasets==2.14.7) (1.26.5)\n",
      "Requirement already satisfied: idna<4,>=2.5 in /usr/lib/python3/dist-packages (from requests>=2.19.0->datasets==2.14.7) (3.3)\n",
      "Requirement already satisfied: python-dateutil>=2.8.2 in /home/orion/.local/lib/python3.10/site-packages (from pandas->datasets==2.14.7) (2.9.0.post0)\n",
      "Requirement already satisfied: tzdata>=2022.7 in /home/orion/.local/lib/python3.10/site-packages (from pandas->datasets==2.14.7) (2025.2)\n",
      "Requirement already satisfied: pytz>=2020.1 in /usr/lib/python3/dist-packages (from pandas->datasets==2.14.7) (2022.1)\n",
      "Requirement already satisfied: six>=1.5 in /usr/lib/python3/dist-packages (from python-dateutil>=2.8.2->pandas->datasets==2.14.7) (1.16.0)\n",
      "Installing collected packages: fsspec, huggingface_hub, tokenizers, transformers, datasets\n",
      "Successfully installed datasets-2.14.7 fsspec-2023.10.0 huggingface_hub-0.17.3 tokenizers-0.15.0 transformers-4.35.2\n",
      "Defaulting to user installation because normal site-packages is not writeable\n",
      "Requirement already satisfied: torch-geometric in /home/orion/.local/lib/python3.10/site-packages (2.6.1)\n",
      "Requirement already satisfied: requests in /home/orion/.local/lib/python3.10/site-packages (from torch-geometric) (2.32.3)\n",
      "Requirement already satisfied: tqdm in /home/orion/.local/lib/python3.10/site-packages (from torch-geometric) (4.67.1)\n",
      "Requirement already satisfied: numpy in /home/orion/.local/lib/python3.10/site-packages (from torch-geometric) (2.2.6)\n",
      "Requirement already satisfied: pyparsing in /usr/lib/python3/dist-packages (from torch-geometric) (2.4.7)\n",
      "Requirement already satisfied: aiohttp in /home/orion/.local/lib/python3.10/site-packages (from torch-geometric) (3.12.9)\n",
      "Requirement already satisfied: jinja2 in /home/orion/.local/lib/python3.10/site-packages (from torch-geometric) (3.1.6)\n",
      "Requirement already satisfied: psutil>=5.8.0 in /home/orion/.local/lib/python3.10/site-packages (from torch-geometric) (7.0.0)\n",
      "Requirement already satisfied: fsspec in /home/orion/.local/lib/python3.10/site-packages (from torch-geometric) (2023.10.0)\n",
      "Requirement already satisfied: frozenlist>=1.1.1 in /home/orion/.local/lib/python3.10/site-packages (from aiohttp->torch-geometric) (1.6.2)\n",
      "Requirement already satisfied: multidict<7.0,>=4.5 in /home/orion/.local/lib/python3.10/site-packages (from aiohttp->torch-geometric) (6.4.4)\n",
      "Requirement already satisfied: attrs>=17.3.0 in /home/orion/.local/lib/python3.10/site-packages (from aiohttp->torch-geometric) (25.3.0)\n",
      "Requirement already satisfied: yarl<2.0,>=1.17.0 in /home/orion/.local/lib/python3.10/site-packages (from aiohttp->torch-geometric) (1.20.0)\n",
      "Requirement already satisfied: aiosignal>=1.1.2 in /home/orion/.local/lib/python3.10/site-packages (from aiohttp->torch-geometric) (1.3.2)\n",
      "Requirement already satisfied: async-timeout<6.0,>=4.0 in /home/orion/.local/lib/python3.10/site-packages (from aiohttp->torch-geometric) (5.0.1)\n",
      "Requirement already satisfied: aiohappyeyeballs>=2.5.0 in /home/orion/.local/lib/python3.10/site-packages (from aiohttp->torch-geometric) (2.6.1)\n",
      "Requirement already satisfied: propcache>=0.2.0 in /home/orion/.local/lib/python3.10/site-packages (from aiohttp->torch-geometric) (0.3.1)\n",
      "Requirement already satisfied: MarkupSafe>=2.0 in /home/orion/.local/lib/python3.10/site-packages (from jinja2->torch-geometric) (3.0.2)\n",
      "Requirement already satisfied: urllib3<3,>=1.21.1 in /usr/lib/python3/dist-packages (from requests->torch-geometric) (1.26.5)\n",
      "Requirement already satisfied: idna<4,>=2.5 in /usr/lib/python3/dist-packages (from requests->torch-geometric) (3.3)\n",
      "Requirement already satisfied: charset-normalizer<4,>=2 in /home/orion/.local/lib/python3.10/site-packages (from requests->torch-geometric) (3.4.2)\n",
      "Requirement already satisfied: certifi>=2017.4.17 in /usr/lib/python3/dist-packages (from requests->torch-geometric) (2020.6.20)\n",
      "Requirement already satisfied: typing-extensions>=4.1.0 in /home/orion/.local/lib/python3.10/site-packages (from multidict<7.0,>=4.5->aiohttp->torch-geometric) (4.14.0)\n"
     ]
    }
   ],
   "source": [
    "!pip install torch datasets numpy matplotlib seaborn\n",
    "!pip uninstall -y datasets fsspec huggingface_hub transformers tokenizers\n",
    "!rm -rf ~/.cache/huggingface/datasets\n",
    "!pip install datasets==2.14.7 fsspec==2023.10.0 huggingface_hub==0.17.3 transformers==4.35.2 tokenizers==0.15.0\n",
    "!pip install torch-geometric"
   ]
  },
  {
   "cell_type": "markdown",
   "metadata": {
    "id": "t_493nvLi32n"
   },
   "source": []
  },
  {
   "cell_type": "code",
   "execution_count": 2,
   "metadata": {
    "colab": {
     "base_uri": "https://localhost:8080/"
    },
    "id": "IXQNwA_X4FcH",
    "outputId": "dd6fcf2b-214e-4556-c944-ae25bcdd24ad"
   },
   "outputs": [
    {
     "name": "stdout",
     "output_type": "stream",
     "text": [
      "Defaulting to user installation because normal site-packages is not writeable\n",
      "Looking in links: https://data.pyg.org/whl/torch-2.7.0+cu126.html\n",
      "Requirement already satisfied: pyg_lib in /home/orion/.local/lib/python3.10/site-packages (0.4.0+pt27cu128)\n",
      "Requirement already satisfied: torch_scatter in /home/orion/.local/lib/python3.10/site-packages (2.1.2+pt27cu128)\n",
      "Requirement already satisfied: torch_sparse in /home/orion/.local/lib/python3.10/site-packages (0.6.18+pt27cu128)\n",
      "Requirement already satisfied: torch_cluster in /home/orion/.local/lib/python3.10/site-packages (1.6.3+pt27cu128)\n",
      "Requirement already satisfied: torch_spline_conv in /home/orion/.local/lib/python3.10/site-packages (1.2.2+pt27cu128)\n",
      "Requirement already satisfied: scipy in /home/orion/.local/lib/python3.10/site-packages (from torch_sparse) (1.15.3)\n",
      "Requirement already satisfied: numpy<2.5,>=1.23.5 in /home/orion/.local/lib/python3.10/site-packages (from scipy->torch_sparse) (2.2.6)\n"
     ]
    }
   ],
   "source": [
    "\n",
    "!pip install pyg_lib torch_scatter torch_sparse torch_cluster torch_spline_conv -f https://data.pyg.org/whl/torch-2.7.0+cu126.html"
   ]
  },
  {
   "cell_type": "code",
   "execution_count": 12,
   "metadata": {},
   "outputs": [
    {
     "name": "stdout",
     "output_type": "stream",
     "text": [
      "2.7.0+cu126\n"
     ]
    }
   ],
   "source": [
    "import torch\n",
    "print(torch.__version__)"
   ]
  },
  {
   "cell_type": "markdown",
   "metadata": {
    "id": "MuvohLe0Mqd8"
   },
   "source": [
    "<h1>Optimized Test Runs</h1>\n",
    "\n",
    "> Add blockquote\n",
    "\n",
    "\n"
   ]
  },
  {
   "cell_type": "code",
   "execution_count": null,
   "metadata": {
    "colab": {
     "base_uri": "https://localhost:8080/"
    },
    "id": "B2AMEeBWd9LL",
    "outputId": "5c03ca49-1d7c-46bb-f9d7-c659a857eaf5"
   },
   "outputs": [],
   "source": [
    "!python run_gnn_moe.py \\\n",
    "  --dataset_config_name wikitext-2-v1 \\\n",
    "  --coupler_type HGNN \\\n",
    "  --static_hyperedge_strategy all_triplets \\\n",
    "  --num_experts 6 \\\n",
    "  --embed_dim 512 \\\n",
    "  --num_layers 6 \\\n",
    "  --batch_size 32 \\\n",
    "  --epochs 5 \\\n",
    "  --max_batches_per_epoch 200 \\\n",
    "  --eval_every 50 \\\n",
    "  --run_name orthogonal_a100_large \\\n",
    "  --apply_orthogonality_loss \\\n",
    "  --orthogonality_loss_weight 0.15 \\\n",
    "  --orthogonality_warmup_steps 100 \\\n",
    "  --learning_rate 3e-4\n"
   ]
  },
  {
   "cell_type": "code",
   "execution_count": null,
   "metadata": {
    "colab": {
     "base_uri": "https://localhost:8080/"
    },
    "id": "-1zGUwoA1TFK",
    "outputId": "380be014-c8bb-4a03-c611-6cf4f58f0771",
    "scrolled": true
   },
   "outputs": [],
   "source": [
    "!python run_gnn_moe.py \\\n",
    "  --apply_weight_orthogonality_loss \\\n",
    "  --weight_orthogonality_loss_weight 0.05 \\\n",
    "  --weight_orthogonality_target_layer ffn_input\n"
   ]
  },
  {
   "cell_type": "code",
   "execution_count": null,
   "metadata": {
    "colab": {
     "background_save": true,
     "base_uri": "https://localhost:8080/"
    },
    "editable": true,
    "id": "4BUcVIgjRlGk",
    "outputId": "dd717083-86af-4307-b4cf-35981246a2af",
    "slideshow": {
     "slide_type": ""
    },
    "tags": []
   },
   "outputs": [
    {
     "name": "stdout",
     "output_type": "stream",
     "text": [
      "/home/orion/.local/lib/python3.10/site-packages/transformers/utils/generic.py:441: FutureWarning: `torch.utils._pytree._register_pytree_node` is deprecated. Please use `torch.utils._pytree.register_pytree_node` instead.\n",
      "  _torch_pytree._register_pytree_node(\n",
      "Adjusting num_heads from 8 to 4 based on embed_dim 256\n",
      "Adjusting num_heads from 8 to 4 based on embed_dim 256\n",
      "Overriding config.embed_dim with CLI arg: 512\n",
      "Overriding config.num_experts with CLI arg: 2\n",
      "Overriding config.weight_orthogonality_target_layer with CLI arg: combined\n",
      "Overriding config.batch_size with CLI arg: 16\n",
      "Overriding config.epochs with CLI arg: 1\n",
      "Overriding config.dataset_config_name with CLI arg: wikitext-103-v1\n",
      "Overriding config.apply_weight_orthogonality_loss from False to CLI arg: True\n",
      "Overriding config.combine_weight_output_orthogonality from False to CLI arg: True\n",
      "===== GNN-MoE Hyperparameter Script Execution Started =====\n",
      "Run Name: orthogonal_4070_wiki_103\n",
      "Effective Config: GNNMoEConfig(vocab_size=50257, max_seq_length=128, embed_dim=512, num_layers=4, num_heads=4, dropout_rate=0.1, num_experts=2, gnn_layers=2, batch_size=16, learning_rate=0.0005, epochs=1, max_batches_per_epoch=-1, eval_every=200, dataset_name='wikitext', dataset_config_name='wikitext-103-v1', num_train_samples=-1, num_eval_samples=-1, checkpoint_dir='checkpoints/orthogonal_4070_wiki_103', resume_checkpoint=None, run_name='orthogonal_4070_wiki_103', seed=42, num_workers_dataloader=2, coupler_type='GNN', hgnn_conv_type='HypergraphConv', static_hyperedge_strategy='all_pairs', hgnn_learnable_edge_weights=True, apply_orthogonality_loss=True, orthogonality_loss_weight=0.1, orthogonality_aggregation='mean', orthogonality_loss_type='gram_identity', orthogonality_warmup_steps=1000, track_expert_specialization=True, apply_weight_orthogonality_loss=True, weight_orthogonality_loss_weight=0.05, weight_orthogonality_target_layer='combined', weight_orthogonality_normalization='frobenius', combine_weight_output_orthogonality=True, adaptive_weight_orthogonality=False, initial_weight_orthogonality_strength=0.1, minimum_weight_orthogonality_strength=0.001, maximum_weight_orthogonality_strength=0.3, adaptive_decay_schedule='cosine', adaptation_frequency=500, target_specialization_score=0.95, specialization_tolerance=0.02, layer_specific_adaptation=True, deeper_layer_scaling=0.8, performance_aware_adaptation=True, performance_monitor_window=100, collapse_detection_threshold=0.1, emergency_constraint_boost=True, emergency_boost_multiplier=2.0, emergency_detection_window=50)\n",
      "🚀 Device: CUDA (Available: 2)\n",
      "✅ Environment ready. Seed: 42, Device: cuda\n",
      "🚀 Setting up data loading for wikitext / wikitext-103-v1...\n",
      "📦 Attempting wikitext (wikitext-103-v1) dataset loading...\n",
      "/home/orion/.local/lib/python3.10/site-packages/datasets/table.py:1421: FutureWarning: promote has been superseded by promote_options='default'.\n",
      "  table = cls._concat_blocks(blocks, axis=0)\n",
      "Raw lines >30 chars: Train 897030, Eval 1926\n",
      "✅ SUCCESS: Real wikitext-103-v1 data loaded!\n",
      "\n",
      "✅ DATA LOADING COMPLETE!\n",
      "🎯 Mode: REAL_WIKITEXT_103_V1\n",
      "📊 Train samples: 897030, Eval samples: 1926\n",
      "📦 Train batches: 56065, Eval batches: 121\n",
      "🔤 Vocabulary: 50,257 tokens (using gpt2)\n",
      "\n",
      "🏗️ Creating GNN-MoE Model with effective vocab_size: 50257\n",
      "Using GNNExpertCoupler for MoE layer.\n",
      "Using GNNExpertCoupler for MoE layer.\n",
      "Using GNNExpertCoupler for MoE layer.\n",
      "Using GNNExpertCoupler for MoE layer.\n",
      "\n",
      "🚀 Starting/Resuming GNN-MoE Training on cuda\n",
      "📊 Model: 82,064,505 parameters\n",
      "🎯 Training: 1 epochs × 56065 batches/epoch = 56065 total steps\n",
      "💾 Checkpoints will be saved in: checkpoints/orthogonal_4070_wiki_103\n",
      "Epoch 1/1:   0%| | 90/56065 [00:09<1:35:32,  9.76it/s, total=20.4940, lm=7.5574,"
     ]
    }
   ],
   "source": [
    "!python3 run_gnn_moe.py \\\n",
    "  --apply_orthogonality_loss \\\n",
    "  --apply_weight_orthogonality_loss \\\n",
    "  --combine_weight_output_orthogonality \\\n",
    "  --weight_orthogonality_target_layer combined \\\n",
    "  --dataset_config_name wikitext-103-v1 \\\n",
    "  --num_layers 4 \\\n",
    "  --batch_size 16 \\\n",
    "  --run_name orthogonal_4070_wiki_103 \\\n",
    "  --num_experts 2 \\\n",
    "  --embed_dim 512 \\\n",
    "  --epochs 1\n",
    "\n",
    "\n"
   ]
  },
  {
   "cell_type": "code",
   "execution_count": null,
   "metadata": {},
   "outputs": [],
   "source": []
  }
 ],
 "metadata": {
  "accelerator": "GPU",
  "colab": {
   "gpuType": "A100",
   "machine_shape": "hm",
   "provenance": []
  },
  "kernelspec": {
   "display_name": "Python 3 (ipykernel)",
   "language": "python",
   "name": "python3"
  },
  "language_info": {
   "codemirror_mode": {
    "name": "ipython",
    "version": 3
   },
   "file_extension": ".py",
   "mimetype": "text/x-python",
   "name": "python",
   "nbconvert_exporter": "python",
   "pygments_lexer": "ipython3",
   "version": "3.10.12"
  }
 },
 "nbformat": 4,
 "nbformat_minor": 4
}
